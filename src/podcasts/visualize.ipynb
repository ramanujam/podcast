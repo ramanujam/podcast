{
 "cells": [
  {
   "cell_type": "code",
   "execution_count": 41,
   "metadata": {},
   "outputs": [],
   "source": [
    "import pandas as pd\n",
    "import json\n",
    "import re"
   ]
  },
  {
   "cell_type": "code",
   "execution_count": 10,
   "metadata": {},
   "outputs": [],
   "source": [
    "with open(\"recommendations.json\", \"r\") as fp:\n",
    "    rec = json.load(fp)"
   ]
  },
  {
   "cell_type": "code",
   "execution_count": 18,
   "metadata": {},
   "outputs": [],
   "source": [
    "data = pd.DataFrame.from_dict(rec, orient=\"index\")"
   ]
  },
  {
   "cell_type": "code",
   "execution_count": 23,
   "metadata": {},
   "outputs": [],
   "source": [
    "data = data.reset_index()"
   ]
  },
  {
   "cell_type": "code",
   "execution_count": 24,
   "metadata": {},
   "outputs": [],
   "source": [
    "data.columns = [\"title\", \"url\"]"
   ]
  },
  {
   "cell_type": "code",
   "execution_count": 47,
   "metadata": {},
   "outputs": [
    {
     "data": {
      "text/plain": [
       "[('', 164),\n",
       " (' https:', 68),\n",
       " ('title', 14),\n",
       " ('books', 12),\n",
       " ('www.netflix.com', 10),\n",
       " ('2019', 10),\n",
       " ('fred.stlouisfed.org', 8),\n",
       " ('www.newyorker.com', 7),\n",
       " ('www.amazon.com', 7),\n",
       " ('dp', 7),\n",
       " ('magazine', 7),\n",
       " ('2018', 6),\n",
       " ('www.imdb.com', 5),\n",
       " ('podcast', 4),\n",
       " ('www.penguinrandomhouse.com', 4),\n",
       " ('us', 4),\n",
       " ('www.youtube.com', 3),\n",
       " (' http:', 3),\n",
       " ('www.nytimes.com', 3),\n",
       " ('11', 3)]"
      ]
     },
     "execution_count": 47,
     "metadata": {},
     "output_type": "execute_result"
    }
   ],
   "source": [
    "from collections import Counter\n",
    "\n",
    "words = re.split(\"/|/.\", \" \".join(data[data.url.isna() == False][\"url\"]))\n",
    "Counter(words).most_common(20)\n",
    "        \n",
    "        \n",
    "        \n",
    "        "
   ]
  },
  {
   "cell_type": "code",
   "execution_count": 58,
   "metadata": {},
   "outputs": [],
   "source": [
    "pd. set_option(\"display.max_rows\", 200, \"display.max_columns\", 10)\n",
    "data.to_csv(\"recommendation_orig.csv\")"
   ]
  },
  {
   "cell_type": "code",
   "execution_count": 59,
   "metadata": {},
   "outputs": [
    {
     "data": {
      "text/plain": [
       "'<table border=\"1\" class=\"dataframe\">\\n  <thead>\\n    <tr style=\"text-align: right;\">\\n      <th></th>\\n      <th>title</th>\\n      <th>url</th>\\n    </tr>\\n  </thead>\\n  <tbody>\\n    <tr>\\n      <th>0</th>\\n      <td>Just Capital</td>\\n      <td>https://justcapital.com/reports/the-covid-19-corporate-response-tracker-how-americas-largest-employers-are-treating-stakeholders-amid-the-coronavirus-crisis/</td>\\n    </tr>\\n    <tr>\\n      <th>1</th>\\n      <td>The Korean Clusters</td>\\n      <td>https://graphics.reuters.com/CHINA-HEALTH-SOUTHKOREA-CLUSTERS/0100B5G33SB/index.html</td>\\n    </tr>\\n    <tr>\\n      <th>2</th>\\n      <td>World Central Kitchen</td>\\n      <td>http://wck.org/</td>\\n    </tr>\\n    <tr>\\n      <th>3</th>\\n      <td>Spillover</td>\\n      <td>https://wwnorton.com/books/spillover/</td>\\n    </tr>\\n    <tr>\\n      <th>4</th>\\n      <td>Podcast about Spillover</td>\\n      <td>https://www.scientificamerican.com/podcast/episode/david-quammen-the-spillover-of-anim-12-11-18/</td>\\n    </tr>\\n    <tr>\\n      <th>5</th>\\n      <td>From Bats to Human Lungs, the Evolution of a Coronavirus</td>\\n      <td>https://www.newyorker.com/science/elements/from-bats-to-human-lungs-the-evolution-of-a-coronavirus</td>\\n    </tr>\\n    <tr>\\n      <th>6</th>\\n      <td>DonorsChoose.org</td>\\n      <td>http://donorschoose.org/</td>\\n    </tr>\\n    <tr>\\n      <th>7</th>\\n      <td>Li Ziqi</td>\\n      <td>https://www.sixthtone.com/news/1005007/how-li-ziqi-repackages-rural-china-for-urban-fantasies</td>\\n    </tr>\\n    <tr>\\n      <th>8</th>\\n      <td>Bon Appetit YouTube Channel</td>\\n      <td>https://www.youtube.com/user/BonAppetitDotCom</td>\\n    </tr>\\n    <tr>\\n      <th>9</th>\\n      <td>Netflix Party</td>\\n      <td>https://chrome.google.com/webstore/detail/netflix-party/oocalimimngaihdkbihfgmpkcpnmlaoa?hl=en</td>\\n    </tr>\\n    <tr>\\n      <th>10</th>\\n      <td>The Institute for Health Metrics and Evaluation</td>\\n      <td>https://covid19.healthdata.org/projections</td>\\n    </tr>\\n    <tr>\\n      <th>11</th>\\n      <td>Tiger King</td>\\n      <td>https://www.netflix.com/title/81115994</td>\\n    </tr>\\n    <tr>\\n      <th>12</th>\\n      <td>The NerdWallet Refinance Calculator</td>\\n      <td>https://www.nerdwallet.com/mortgages/refinance-calculator</td>\\n    </tr>\\n    <tr>\\n      <th>13</th>\\n      <td>The Death and Life of Great American Cities</td>\\n      <td>https://www.amazon.com/Death-Life-Great-American-Cities/dp/067974195X</td>\\n    </tr>\\n    <tr>\\n      <th>14</th>\\n      <td>Brian Eno</td>\\n      <td>https://brian-eno.net/</td>\\n    </tr>\\n    <tr>\\n      <th>15</th>\\n      <td>STAT News</td>\\n      <td>https://www.statnews.com/</td>\\n    </tr>\\n    <tr>\\n      <th>16</th>\\n      <td>Myth Busters: Busting Myths about COVID-19</td>\\n      <td>https://www.who.int/emergencies/diseases/novel-coronavirus-2019/advice-for-public/myth-busters</td>\\n    </tr>\\n    <tr>\\n      <th>17</th>\\n      <td>Wolf Hall</td>\\n      <td>https://www.pbs.org/wgbh/masterpiece/shows/wolf-hall/</td>\\n    </tr>\\n    <tr>\\n      <th>18</th>\\n      <td>I Lost My Body</td>\\n      <td>https://www.netflix.com/watch/81120982?source=35</td>\\n    </tr>\\n    <tr>\\n      <th>19</th>\\n      <td>The Great Buenos Aires Bank Heist</td>\\n      <td>https://www.gq.com/story/the-great-buenos-aires-bank-heist</td>\\n    </tr>\\n    <tr>\\n      <th>20</th>\\n      <td>Gramophone Classical Music Reviews</td>\\n      <td>https://www.gramophone.co.uk/</td>\\n    </tr>\\n    <tr>\\n      <th>21</th>\\n      <td>Hair Love</td>\\n      <td>http://www.matthewacherry.com/hair-love</td>\\n    </tr>\\n    <tr>\\n      <th>22</th>\\n      <td>Knives Out</td>\\n      <td>https://www.imdb.com/title/tt8946378/</td>\\n    </tr>\\n    <tr>\\n      <th>23</th>\\n      <td>The Points Guy</td>\\n      <td>https://thepointsguy.com/</td>\\n    </tr>\\n    <tr>\\n      <th>24</th>\\n      <td>Exhalation: Stories</td>\\n      <td>https://www.amazon.com/Exhalation-Stories-Ted-Chiang/dp/1101947888</td>\\n    </tr>\\n    <tr>\\n      <th>25</th>\\n      <td>Wonderstruck</td>\\n      <td>https://www.wonderstrucktv.com/</td>\\n    </tr>\\n    <tr>\\n      <th>26</th>\\n      <td>Be My Eyes</td>\\n      <td>https://www.bemyeyes.com/</td>\\n    </tr>\\n    <tr>\\n      <th>27</th>\\n      <td>97,196 Words: Essays</td>\\n      <td>https://us.macmillan.com/books/9780374178208</td>\\n    </tr>\\n    <tr>\\n      <th>28</th>\\n      <td>Shoplifters</td>\\n      <td>https://www.shopliftersfilm.com/</td>\\n    </tr>\\n    <tr>\\n      <th>29</th>\\n      <td>Disney Shorts (Disney Plus)</td>\\n      <td>https://www.shopliftersfilm.com/</td>\\n    </tr>\\n    <tr>\\n      <th>30</th>\\n      <td>63 Up</td>\\n      <td>https://www.imdb.com/title/tt8929142/</td>\\n    </tr>\\n    <tr>\\n      <th>31</th>\\n      <td>HarvardAfterHours.com</td>\\n      <td>https://harvardafterhours.com/</td>\\n    </tr>\\n    <tr>\\n      <th>32</th>\\n      <td>Transparency Report</td>\\n      <td>https://transparencyreport.google.com/political-ads/region/US?hl=en</td>\\n    </tr>\\n    <tr>\\n      <th>33</th>\\n      <td>Head to Head</td>\\n      <td>https://projects.propublica.org/represent/members/compare-votes/116</td>\\n    </tr>\\n    <tr>\\n      <th>34</th>\\n      <td>Download</td>\\n      <td>https://support.google.com/maps/answer/6291838?co=GENIE.Platform%3DAndroid&amp;hl=en</td>\\n    </tr>\\n    <tr>\\n      <th>35</th>\\n      <td>Honeyland</td>\\n      <td>https://www.imdb.com/title/tt8991268/</td>\\n    </tr>\\n    <tr>\\n      <th>36</th>\\n      <td>Little Women</td>\\n      <td>https://www.imdb.com/title/tt3281548/</td>\\n    </tr>\\n    <tr>\\n      <th>37</th>\\n      <td>Federica Fragapane</td>\\n      <td>https://www.behance.net/FedericaFragapane</td>\\n    </tr>\\n    <tr>\\n      <th>38</th>\\n      <td>Jane The Virgin</td>\\n      <td>https://www.netflix.com/title/80027158</td>\\n    </tr>\\n    <tr>\\n      <th>39</th>\\n      <td>ROW-cub</td>\\n      <td>https://www.radioatlas.org/row-cub/</td>\\n    </tr>\\n    <tr>\\n      <th>40</th>\\n      <td>The Man in the High Castle</td>\\n      <td>https://www.imdb.com/title/tt1740299/</td>\\n    </tr>\\n    <tr>\\n      <th>41</th>\\n      <td>Miznon</td>\\n      <td>https://www.miznonnyc.com/</td>\\n    </tr>\\n    <tr>\\n      <th>42</th>\\n      <td>Sous Vide Cooking</td>\\n      <td>https://anovaculinary.com/what-is-sous-vide/</td>\\n    </tr>\\n    <tr>\\n      <th>43</th>\\n      <td>The Jungle Prince of Delhi</td>\\n      <td>https://www.nytimes.com/2019/11/22/world/asia/the-jungle-prince-of-delhi.html</td>\\n    </tr>\\n    <tr>\\n      <th>44</th>\\n      <td>The Overstory</td>\\n      <td>http://www.richardpowers.net/the-overstory/</td>\\n    </tr>\\n    <tr>\\n      <th>45</th>\\n      <td>My 27-Hour Vacation in Singapore’s Changi Airport</td>\\n      <td>https://www.nytimes.com/2019/12/02/travel/Singapore-Changi-Airport.html</td>\\n    </tr>\\n    <tr>\\n      <th>46</th>\\n      <td>Dolly Parton’s America</td>\\n      <td>https://www.wnycstudios.org/podcasts/dolly-partons-america</td>\\n    </tr>\\n    <tr>\\n      <th>47</th>\\n      <td>Ole &amp; Steen</td>\\n      <td>https://oleandsteen.us/</td>\\n    </tr>\\n    <tr>\\n      <th>48</th>\\n      <td>Sugarfish</td>\\n      <td>https://sugarfishsushi.com/</td>\\n    </tr>\\n    <tr>\\n      <th>49</th>\\n      <td>KitchenAid Stand Mixer</td>\\n      <td>https://www.marthastewart.com/1537760/stand-mixer-history-kitchenaid</td>\\n    </tr>\\n    <tr>\\n      <th>50</th>\\n      <td>Radio Garden</td>\\n      <td>https://radio.garden/listen/lite105/ib4ZVQBr</td>\\n    </tr>\\n    <tr>\\n      <th>51</th>\\n      <td>Flighty</td>\\n      <td>https://www.flightyapp.com/</td>\\n    </tr>\\n    <tr>\\n      <th>52</th>\\n      <td>Downbeat</td>\\n      <td>http://downbeat.com/</td>\\n    </tr>\\n    <tr>\\n      <th>53</th>\\n      <td>Jokes Seth Can’t Tell</td>\\n      <td>https://www.youtube.com/results?search_query=jokes+seth+can%27t+tell</td>\\n    </tr>\\n    <tr>\\n      <th>54</th>\\n      <td>NPR Marketplace</td>\\n      <td>https://www.npr.org/podcasts/381444600/marketplace</td>\\n    </tr>\\n    <tr>\\n      <th>55</th>\\n      <td>Catalyst cases</td>\\n      <td>https://www.catalystcase.com/products/catalyst-air-pod-case?variant=37217033934</td>\\n    </tr>\\n    <tr>\\n      <th>56</th>\\n      <td>The Economist Audio Edition</td>\\n      <td>https://www.economist.com/audio-edition</td>\\n    </tr>\\n    <tr>\\n      <th>57</th>\\n      <td>Agent Running in the Field</td>\\n      <td>https://www.amazon.com/Agent-Running-Field-John-Carr%C3%A9/dp/1984878875/ref=tmm_hrd_swatch_0?_encoding=UTF8&amp;qid=&amp;sr=</td>\\n    </tr>\\n    <tr>\\n      <th>58</th>\\n      <td>Big Little Lies, season 2</td>\\n      <td>https://www.hbo.com/big-little-lies/season-2</td>\\n    </tr>\\n    <tr>\\n      <th>59</th>\\n      <td>The Meritocracy Trap</td>\\n      <td>https://www.penguinrandomhouse.com/books/548174/the-meritocracy-trap-by-daniel-markovits/</td>\\n    </tr>\\n    <tr>\\n      <th>60</th>\\n      <td>Conan O’Brien talks to Stephen Colbert</td>\\n      <td>https://podcasts.apple.com/us/podcast/13-stephen-colbert/id1438054347?i=1000429605152</td>\\n    </tr>\\n    <tr>\\n      <th>61</th>\\n      <td>Parasite</td>\\n      <td>https://www.parasite-movie.com/</td>\\n    </tr>\\n    <tr>\\n      <th>62</th>\\n      <td>In Hoffa’s Shadow</td>\\n      <td>https://us.macmillan.com/books/9780374175658</td>\\n    </tr>\\n    <tr>\\n      <th>63</th>\\n      <td>Dopesick</td>\\n      <td>https://www.littlebrown.com/titles/beth-macy/dopesick/9780316551281/</td>\\n    </tr>\\n    <tr>\\n      <th>64</th>\\n      <td>Dear White People</td>\\n      <td>https://www.netflix.com/title/80095698</td>\\n    </tr>\\n    <tr>\\n      <th>65</th>\\n      <td>Conan O’Brien talks to Stephen Colbert</td>\\n      <td>https://podcasts.apple.com/us/podcast/13-stephen-colbert/id1438054347?i=1000429605152</td>\\n    </tr>\\n    <tr>\\n      <th>66</th>\\n      <td>1619: The Birth of American Music</td>\\n      <td>https://podcasts.apple.com/us/podcast/the-daily/id1200361736?i=1000448898072</td>\\n    </tr>\\n    <tr>\\n      <th>67</th>\\n      <td>The World</td>\\n      <td>https://www.pri.org/programs/the-world</td>\\n    </tr>\\n    <tr>\\n      <th>68</th>\\n      <td>Is Amazon Unstoppable?</td>\\n      <td>https://www.newyorker.com/magazine/2019/10/21/is-amazon-unstoppable</td>\\n    </tr>\\n    <tr>\\n      <th>69</th>\\n      <td>Jeff Bezos’s Master Plan</td>\\n      <td>https://www.theatlantic.com/magazine/archive/2019/11/what-jeff-bezos-wants/598363/</td>\\n    </tr>\\n    <tr>\\n      <th>70</th>\\n      <td>American Factory</td>\\n      <td>https://mastersofscale.com/live/</td>\\n    </tr>\\n    <tr>\\n      <th>71</th>\\n      <td>Darren Brown: Secret</td>\\n      <td>https://derrenbrownsecret.com/</td>\\n    </tr>\\n    <tr>\\n      <th>72</th>\\n      <td>Succession</td>\\n      <td>https://www.hbo.com/succession</td>\\n    </tr>\\n    <tr>\\n      <th>73</th>\\n      <td>Masters of Scale Live Show</td>\\n      <td>https://mastersofscale.com/live/</td>\\n    </tr>\\n    <tr>\\n      <th>74</th>\\n      <td>DuckDuckGo</td>\\n      <td>https://duckduckgo.com/?t=hp/</td>\\n    </tr>\\n    <tr>\\n      <th>75</th>\\n      <td>National Bureau of Economic Research</td>\\n      <td>https://www.nber.org/</td>\\n    </tr>\\n    <tr>\\n      <th>76</th>\\n      <td>Ingredients: A Visual Exploration of 75 Additives and 25 Food Products</td>\\n      <td>https://www.amazon.com/Ingredients-Visual-Exploration-Additives-Products/dp/1941393314</td>\\n    </tr>\\n    <tr>\\n      <th>77</th>\\n      <td>Bel Canto</td>\\n      <td>http://www.annpatchett.com/bel-canto</td>\\n    </tr>\\n    <tr>\\n      <th>78</th>\\n      <td>Chernobyl</td>\\n      <td>https://www.hbo.com/chernobyl</td>\\n    </tr>\\n    <tr>\\n      <th>79</th>\\n      <td>Fleabag</td>\\n      <td>https://www.amazon.com/Fleabag-Season-1/dp/B01J4SST1K</td>\\n    </tr>\\n    <tr>\\n      <th>80</th>\\n      <td>The Best Green Salad in the World</td>\\n      <td>https://www.nytimes.com/2019/05/08/magazine/best-green-salad-recipe.html</td>\\n    </tr>\\n    <tr>\\n      <th>81</th>\\n      <td>Dark</td>\\n      <td>https://www.netflix.com/title/80100172</td>\\n    </tr>\\n    <tr>\\n      <th>82</th>\\n      <td>Mind Fixers</td>\\n      <td>https://books.wwnorton.com/books/detail.aspx?ID=4294997492</td>\\n    </tr>\\n    <tr>\\n      <th>83</th>\\n      <td>Trello</td>\\n      <td>https://trello.com/</td>\\n    </tr>\\n    <tr>\\n      <th>84</th>\\n      <td>Mind Fixers</td>\\n      <td>https://books.wwnorton.com/books/detail.aspx?ID=4294997492</td>\\n    </tr>\\n    <tr>\\n      <th>85</th>\\n      <td>The Comforting Fictions of Dementia Care</td>\\n      <td>https://www.newyorker.com/magazine/2018/10/08/the-comforting-fictions-of-dementia-care</td>\\n    </tr>\\n    <tr>\\n      <th>86</th>\\n      <td>@BryanDruzin</td>\\n      <td>https://twitter.com/BryanDruzin?ref_src=twsrc%5Egoogle%7Ctwcamp%5Eserp%7Ctwgr%5Eauthor</td>\\n    </tr>\\n    <tr>\\n      <th>87</th>\\n      <td>Knock Down the House</td>\\n      <td>https://www.netflix.com/title/81080637</td>\\n    </tr>\\n    <tr>\\n      <th>88</th>\\n      <td>Sec.gov</td>\\n      <td>https://www.sec.gov/</td>\\n    </tr>\\n    <tr>\\n      <th>89</th>\\n      <td>Billy Eilish</td>\\n      <td>https://open.spotify.com/artist/6qqNVTkY8uBg9cP3Jd7DAH?si=-JtfGa2pQPOgoTgnsny1CQ</td>\\n    </tr>\\n    <tr>\\n      <th>90</th>\\n      <td>How much does animal agriculture and eating meat contribute to global warming?</td>\\n      <td>https://skepticalscience.com/animal-agriculture-meat-global-warming.htm</td>\\n    </tr>\\n    <tr>\\n      <th>91</th>\\n      <td>#MidtownUniform</td>\\n      <td>https://open.spotify.com/artist/6qqNVTkY8uBg9cP3Jd7DAH?si=-JtfGa2pQPOgoTgnsny1CQ</td>\\n    </tr>\\n    <tr>\\n      <th>92</th>\\n      <td>Eater.com</td>\\n      <td>https://www.eater.com/</td>\\n    </tr>\\n    <tr>\\n      <th>93</th>\\n      <td>Cribsheet: A Data-Driven Guide to Better, More Relaxed Parenting</td>\\n      <td>https://www.penguinrandomhouse.com/books/572658/cribsheet-by-emily-oster/9780525559252/</td>\\n    </tr>\\n    <tr>\\n      <th>94</th>\\n      <td>Pitchfork</td>\\n      <td>https://pitchfork.com/best/</td>\\n    </tr>\\n    <tr>\\n      <th>95</th>\\n      <td>Homecoming King</td>\\n      <td>https://www.netflix.com/title/80134781</td>\\n    </tr>\\n    <tr>\\n      <th>96</th>\\n      <td>Delhi Crime</td>\\n      <td>https://www.netflix.com/title/81076756</td>\\n    </tr>\\n    <tr>\\n      <th>97</th>\\n      <td>Business Insider Briefings</td>\\n      <td>https://newsletter.businessinsider.com/join/free</td>\\n    </tr>\\n    <tr>\\n      <th>98</th>\\n      <td>How to enjoy Game of Thrones season 8 if you haven’t seen the show</td>\\n      <td>https://www.theringer.com/game-of-thrones/2019/4/5/18295884/game-of-thrones-season-8-never-watched-guide</td>\\n    </tr>\\n    <tr>\\n      <th>99</th>\\n      <td>Station Eleven: A Novel</td>\\n      <td>http://www.emilymandel.com/stationeleven.html</td>\\n    </tr>\\n    <tr>\\n      <th>100</th>\\n      <td>How Finance Works</td>\\n      <td>https://www.amazon.com/How-Finance-Works-Thinking-Numbers/dp/1633696707</td>\\n    </tr>\\n    <tr>\\n      <th>101</th>\\n      <td>Netflix Subgenre Codes</td>\\n      <td>https://www.finder.com/netflix/genre-list</td>\\n    </tr>\\n    <tr>\\n      <th>102</th>\\n      <td>Bang Bar</td>\\n      <td>https://bangbar.xyz/</td>\\n    </tr>\\n    <tr>\\n      <th>103</th>\\n      <td>Games Magazine</td>\\n      <td>https://gamesmagazine-online.com/subscribe/</td>\\n    </tr>\\n    <tr>\\n      <th>104</th>\\n      <td>Museum of Failure</td>\\n      <td>https://failuremuseum.com/</td>\\n    </tr>\\n    <tr>\\n      <th>105</th>\\n      <td>Losers</td>\\n      <td>https://www.netflix.com/title/80198306</td>\\n    </tr>\\n    <tr>\\n      <th>106</th>\\n      <td>Ash is Purest White</td>\\n      <td>https://www.rottentomatoes.com/m/ash_is_purest_white</td>\\n    </tr>\\n    <tr>\\n      <th>107</th>\\n      <td>Dynasties</td>\\n      <td>https://www.youtube.com/watch?v=JWI1eCbksdE</td>\\n    </tr>\\n    <tr>\\n      <th>108</th>\\n      <td>After Life</td>\\n      <td>https://www.netflix.com/title/80998491</td>\\n    </tr>\\n    <tr>\\n      <th>109</th>\\n      <td>US Countries and Partisan Prejudice</td>\\n      <td>https://www.theatlantic.com/politics/archive/2019/03/us-counties-vary-their-degree-partisan-prejudice/583072/</td>\\n    </tr>\\n    <tr>\\n      <th>110</th>\\n      <td>Reputation Rules</td>\\n      <td>https://www.amazon.com/Reputation-Rules-Strategies-Building-Company%2019s/dp/0071763740/ref=sr_1_1?ie=UTF8&amp;qid=1301519379&amp;sr=8-1</td>\\n    </tr>\\n    <tr>\\n      <th>111</th>\\n      <td>Aloft: Thoughts on the Experience of Flight</td>\\n      <td>https://www.penguinrandomhouse.com/books/205470/aloft-by-william-langewiesche-with-an-introduction-by-john-banville/9780307741486/</td>\\n    </tr>\\n    <tr>\\n      <th>112</th>\\n      <td>Stratechery</td>\\n      <td>https://stratechery.com/</td>\\n    </tr>\\n    <tr>\\n      <th>113</th>\\n      <td>Motif</td>\\n      <td>https://www.motifphotos.com/en-us</td>\\n    </tr>\\n    <tr>\\n      <th>114</th>\\n      <td>Hopper</td>\\n      <td>https://www.hopper.com/</td>\\n    </tr>\\n    <tr>\\n      <th>115</th>\\n      <td>Free Solo</td>\\n      <td>https://www.nationalgeographic.com/films/free-solo/</td>\\n    </tr>\\n    <tr>\\n      <th>116</th>\\n      <td>Dreyer’s English: An Utterly Correct Guide to Clarity and Style</td>\\n      <td>https://www.penguinrandomhouse.com/books/232363/dreyers-english-by-benjamin-dreyer/9780812995701/</td>\\n    </tr>\\n    <tr>\\n      <th>117</th>\\n      <td>Interesting as F***</td>\\n      <td>https://www.reddit.com/r/interestingasfuck/</td>\\n    </tr>\\n    <tr>\\n      <th>118</th>\\n      <td>BA Magic Videos</td>\\n      <td>http://mediacentre.britishairways.com/factsheets/details/86/Default-1/41</td>\\n    </tr>\\n    <tr>\\n      <th>119</th>\\n      <td>General Social Survey Visualization Tool</td>\\n      <td>https://gssdataexplorer.norc.org/trends</td>\\n    </tr>\\n    <tr>\\n      <th>120</th>\\n      <td>Chef’s Knife Mac MTH-80</td>\\n      <td>https://gssdataexplorer.norc.org/trends</td>\\n    </tr>\\n    <tr>\\n      <th>121</th>\\n      <td>Goodbye Big Five: Life Without the Tech Giants</td>\\n      <td>https://gizmodo.com/i-cut-the-big-five-tech-giants-from-my-life-it-was-hel-1831304194</td>\\n    </tr>\\n    <tr>\\n      <th>122</th>\\n      <td>Minding the Gap (Hulu documentary)</td>\\n      <td>https://gizmodo.com/i-cut-the-big-five-tech-giants-from-my-life-it-was-hel-1831304194</td>\\n    </tr>\\n    <tr>\\n      <th>123</th>\\n      <td>Andy Warhol retrospective</td>\\n      <td>https://whitney.org/Exhibitions/AndyWarhol</td>\\n    </tr>\\n    <tr>\\n      <th>124</th>\\n      <td>Cassette</td>\\n      <td>http://www.cassette.design/#landing</td>\\n    </tr>\\n    <tr>\\n      <th>125</th>\\n      <td>Seven Days Out: Ep 2: Eleven Madison Park (Netflix)</td>\\n      <td>http://www.cassette.design/#landing</td>\\n    </tr>\\n    <tr>\\n      <th>126</th>\\n      <td>Tsutaya Bookstores (Japan)</td>\\n      <td>http://www.cassette.design/#landing</td>\\n    </tr>\\n    <tr>\\n      <th>127</th>\\n      <td>Richard Brody’s Review of Roma</td>\\n      <td>https://www.newyorker.com/culture/the-front-row/theres-a-voice-missing-in-alfonso-cuarons-roma</td>\\n    </tr>\\n    <tr>\\n      <th>128</th>\\n      <td>The Tangled Tree</td>\\n      <td>https://www.simonandschuster.com/books/The-Tangled-Tree/David-Quammen/9781476776620</td>\\n    </tr>\\n    <tr>\\n      <th>129</th>\\n      <td>Mary Oliver poetry</td>\\n      <td>https://www.simonandschuster.com/books/The-Tangled-Tree/David-Quammen/9781476776620</td>\\n    </tr>\\n    <tr>\\n      <th>130</th>\\n      <td>Money Heist (Netflix)</td>\\n      <td>None</td>\\n    </tr>\\n    <tr>\\n      <th>131</th>\\n      <td>Patrick Radden Keefe’s Profile of Mark Burnett</td>\\n      <td>https://www.newyorker.com/magazine/2019/01/07/how-mark-burnett-resurrected-donald-trump-as-an-icon-of-american-success</td>\\n    </tr>\\n    <tr>\\n      <th>132</th>\\n      <td>Cooking by Ear (Podcast)</td>\\n      <td>https://www.newyorker.com/magazine/2019/01/07/how-mark-burnett-resurrected-donald-trump-as-an-icon-of-american-success</td>\\n    </tr>\\n    <tr>\\n      <th>133</th>\\n      <td>Mark Burnett profile in The New Yorker</td>\\n      <td>https://www.newyorker.com/magazine/2019/01/07/how-mark-burnett-resurrected-donald-trump-as-an-icon-of-american-success</td>\\n    </tr>\\n    <tr>\\n      <th>134</th>\\n      <td>Salt Fat Acid Heat (Netflix)</td>\\n      <td>None</td>\\n    </tr>\\n    <tr>\\n      <th>135</th>\\n      <td>Turing Tumble</td>\\n      <td>https://www.turingtumble.com/</td>\\n    </tr>\\n    <tr>\\n      <th>136</th>\\n      <td>Hilma af Klint Exhibit</td>\\n      <td>https://www.guggenheim.org/exhibition/hilma-af-klint</td>\\n    </tr>\\n    <tr>\\n      <th>137</th>\\n      <td>Prime Suspect (Amazon Prime Video – Britbox)</td>\\n      <td>https://www.guggenheim.org/exhibition/hilma-af-klint</td>\\n    </tr>\\n    <tr>\\n      <th>138</th>\\n      <td>Atavist</td>\\n      <td>https://magazine.atavist.com/</td>\\n    </tr>\\n    <tr>\\n      <th>139</th>\\n      <td>Atlanta, Season 2 (Netflix)</td>\\n      <td>https://magazine.atavist.com/</td>\\n    </tr>\\n    <tr>\\n      <th>140</th>\\n      <td>Wall Street Rule for the #MeToo Era: Avoid Women At All Cost</td>\\n      <td>https://www.bloomberg.com/news/articles/2018-12-03/a-wall-street-rule-for-the-metoo-era-avoid-women-at-all-cost</td>\\n    </tr>\\n    <tr>\\n      <th>141</th>\\n      <td>The Value of Everything</td>\\n      <td>https://marianamazzucato.com/publications/books/value-of-everything/</td>\\n    </tr>\\n    <tr>\\n      <th>142</th>\\n      <td>21c Museum Hotels</td>\\n      <td>https://www.21cmuseumhotels.com/</td>\\n    </tr>\\n    <tr>\\n      <th>143</th>\\n      <td>The Truth As Told By Mason Buttle</td>\\n      <td>https://www.harpercollins.com/9780062491435/the-truth-as-told-by-mason-buttle/</td>\\n    </tr>\\n    <tr>\\n      <th>144</th>\\n      <td>TikTok</td>\\n      <td>https://www.tiktok.com/</td>\\n    </tr>\\n    <tr>\\n      <th>145</th>\\n      <td>Today, Explained Podcast, Nov. 30 Episode (Humans 2.0)</td>\\n      <td>https://www.tiktok.com/</td>\\n    </tr>\\n    <tr>\\n      <th>146</th>\\n      <td>Babylon Berlin (Netflix)</td>\\n      <td>https://www.tiktok.com/</td>\\n    </tr>\\n    <tr>\\n      <th>147</th>\\n      <td>The Prison Inside Me</td>\\n      <td>https://www.reuters.com/article/us-southkorea-prisonstay/south-koreans-lock-themselves-up-to-escape-prison-of-daily-life-idUSKCN1NS0JB</td>\\n    </tr>\\n    <tr>\\n      <th>148</th>\\n      <td>Robert Stavins (follow on Twitter)</td>\\n      <td>None</td>\\n    </tr>\\n    <tr>\\n      <th>149</th>\\n      <td>FRED</td>\\n      <td>https://fred.stlouisfed.org/</td>\\n    </tr>\\n    <tr>\\n      <th>150</th>\\n      <td>RBG (Documentary on Amazon Video)</td>\\n      <td>https://fred.stlouisfed.org/</td>\\n    </tr>\\n    <tr>\\n      <th>151</th>\\n      <td>The Man in the High Castle (Amazon Video)</td>\\n      <td>https://fred.stlouisfed.org/</td>\\n    </tr>\\n    <tr>\\n      <th>152</th>\\n      <td>The Ringer website</td>\\n      <td>https://fred.stlouisfed.org/</td>\\n    </tr>\\n    <tr>\\n      <th>153</th>\\n      <td>The Basics of FIRE</td>\\n      <td>https://twocents.lifehacker.com/the-basics-of-fire-financial-independence-and-early-re-1820129768</td>\\n    </tr>\\n    <tr>\\n      <th>154</th>\\n      <td>Mr. Money Moustache (FIRE blog)</td>\\n      <td>http://www.mrmoneymustache.com/2018/10/05/the-fire-movement/</td>\\n    </tr>\\n    <tr>\\n      <th>155</th>\\n      <td>Janesville (Amy Goldstein)</td>\\n      <td>https://fred.stlouisfed.org/</td>\\n    </tr>\\n    <tr>\\n      <th>156</th>\\n      <td>Airtable (software)</td>\\n      <td>https://fred.stlouisfed.org/</td>\\n    </tr>\\n    <tr>\\n      <th>157</th>\\n      <td>Small Fry (Lisa Brennan-Jobs)</td>\\n      <td>https://fred.stlouisfed.org/</td>\\n    </tr>\\n    <tr>\\n      <th>158</th>\\n      <td>Educated (Tara Westover)</td>\\n      <td>https://fred.stlouisfed.org/</td>\\n    </tr>\\n    <tr>\\n      <th>159</th>\\n      <td>The National Climate Assessment</td>\\n      <td>https://nca2018.globalchange.gov/</td>\\n    </tr>\\n    <tr>\\n      <th>160</th>\\n      <td>AG Sulzberger Interview with Kara Swisher</td>\\n      <td>https://www.recode.net/2018/11/5/18063558/new-york-times-nyt-ag-sulzberger-publisher-kara-swisher-recode-decode-podcast</td>\\n    </tr>\\n    <tr>\\n      <th>161</th>\\n      <td>Latin America is the Murder Capital of the World</td>\\n      <td>https://www.wsj.com/articles/400-murders-a-day-the-crisis-of-latin-america-1537455390</td>\\n    </tr>\\n    <tr>\\n      <th>162</th>\\n      <td>Ryan Buell in HBR: The Parts of Customer Service That Should Never Be Automated</td>\\n      <td>https://hbr.org/2018/02/the-parts-of-customer-service-that-should-never-be-automated</td>\\n    </tr>\\n    <tr>\\n      <th>163</th>\\n      <td>The future of retail? A report from Deloitte</td>\\n      <td>https://www2.deloitte.com/insights/us/en/industry/retail-distribution/future-of-retail-renaissance-apocalypse.html</td>\\n    </tr>\\n    <tr>\\n      <th>164</th>\\n      <td>Mihir’s take on tax reform</td>\\n      <td>https://www.harvardmagazine.com/2018/05/mihir-desai-tax-reform</td>\\n    </tr>\\n    <tr>\\n      <th>165</th>\\n      <td>Early evidence on the $15 minimum wage</td>\\n      <td>https://www.aeaweb.org/conference/2018/preliminary/1763</td>\\n    </tr>\\n    <tr>\\n      <th>166</th>\\n      <td>Slides from a recent classroom discussion</td>\\n      <td>http://hbr.org/resources/pdfs/podcast-hbr-presents/AH_S2_E1_metoo-slides.pdf</td>\\n    </tr>\\n  </tbody>\\n</table>'"
      ]
     },
     "execution_count": 59,
     "metadata": {},
     "output_type": "execute_result"
    }
   ],
   "source": [
    "data.to_html()"
   ]
  },
  {
   "cell_type": "code",
   "execution_count": null,
   "metadata": {},
   "outputs": [],
   "source": []
  }
 ],
 "metadata": {
  "kernelspec": {
   "display_name": "Python 3",
   "language": "python",
   "name": "python3"
  },
  "language_info": {
   "codemirror_mode": {
    "name": "ipython",
    "version": 3
   },
   "file_extension": ".py",
   "mimetype": "text/x-python",
   "name": "python",
   "nbconvert_exporter": "python",
   "pygments_lexer": "ipython3",
   "version": "3.7.6"
  }
 },
 "nbformat": 4,
 "nbformat_minor": 4
}
